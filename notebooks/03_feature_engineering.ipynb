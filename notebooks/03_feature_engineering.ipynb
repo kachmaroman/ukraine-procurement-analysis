{
 "cells": [
  {
   "cell_type": "markdown",
   "metadata": {},
   "source": [
    "# Feature Engineering for Procurement Anomaly Detection\n",
    "\n",
    "**Purpose:** Transform raw procurement data into ML-ready features that capture corruption patterns.\n",
    "\n",
    "**Feature Categories:**\n",
    "1. **Price Features** - Deviations from regional/category medians, price changes\n",
    "2. **Competition Features** - Bidder counts, market concentration, win rates\n",
    "3. **Temporal Features** - Deadline pressure, seasonal patterns, budget cycles\n",
    "4. **Network Features** - Supplier-organizer relationships, centrality measures\n",
    "5. **Geographic Features** - Cross-region activity, distance patterns\n",
    "\n",
    "**Goal:** Create comprehensive feature set for unsupervised and supervised anomaly detection models."
   ]
  },
  {
   "cell_type": "code",
   "execution_count": 1,
   "metadata": {},
   "outputs": [
    {
     "name": "stdout",
     "output_type": "stream",
     "text": [
      "Libraries loaded successfully\n"
     ]
    }
   ],
   "source": [
    "# Import libraries\n",
    "import pandas as pd\n",
    "import numpy as np\n",
    "import matplotlib.pyplot as plt\n",
    "import seaborn as sns\n",
    "import networkx as nx\n",
    "from pathlib import Path\n",
    "from sklearn.preprocessing import StandardScaler, LabelEncoder\n",
    "import warnings\n",
    "\n",
    "warnings.filterwarnings('ignore')\n",
    "sns.set_style('whitegrid')\n",
    "plt.rcParams['figure.figsize'] = (14, 6)\n",
    "\n",
    "print(\"Libraries loaded successfully\")"
   ]
  },
  {
   "cell_type": "markdown",
   "metadata": {},
   "source": [
    "## 1. Load and Merge Data"
   ]
  },
  {
   "cell_type": "code",
   "execution_count": 2,
   "metadata": {},
   "outputs": [
    {
     "name": "stdout",
     "output_type": "stream",
     "text": [
      "Loading datasets...\n",
      "✓ Suppliers: 3,621,822 rows\n",
      "✓ Procurements: 2,313,168 rows\n",
      "\n",
      "Suppliers columns:\n",
      "['lot_announce_date', 'lot_announce_year', 'organizer_name', 'organizer_code', 'organizer_region', 'lot_id', 'lot_procur_type', 'lot_competitiveness', 'lot_cpv', 'lot_cpv_4_digs', 'lot_cpv_2_digs', 'lot_initial_value', 'lot_final_value', 'supplier_name', 'supplier_code', 'supplier_region']\n"
     ]
    }
   ],
   "source": [
    "# Load datasets\n",
    "data_dir = Path('../data/raw')\n",
    "\n",
    "print(\"Loading datasets...\")\n",
    "df_suppliers = pd.read_csv(data_dir / 'Suppliers.csv', low_memory=False)\n",
    "df_procurements = pd.read_csv(data_dir / 'Competitive_procurements.csv', low_memory=False)\n",
    "\n",
    "print(f\"✓ Suppliers: {len(df_suppliers):,} rows\")\n",
    "print(f\"✓ Procurements: {len(df_procurements):,} rows\")\n",
    "\n",
    "# Display columns for reference\n",
    "print(\"\\nSuppliers columns:\")\n",
    "print(df_suppliers.columns.tolist())"
   ]
  },
  {
   "cell_type": "code",
   "execution_count": 3,
   "metadata": {},
   "outputs": [
    {
     "name": "stdout",
     "output_type": "stream",
     "text": [
      "Found date columns: ['lot_announce_date']\n",
      "✓ Converted lot_announce_date\n"
     ]
    }
   ],
   "source": [
    "# Parse date columns\n",
    "date_columns = [col for col in df_suppliers.columns if 'date' in col.lower()]\n",
    "print(f\"Found date columns: {date_columns}\")\n",
    "\n",
    "for col in date_columns[:5]:  # Limit to first 5\n",
    "    try:\n",
    "        df_suppliers[col] = pd.to_datetime(df_suppliers[col], errors='coerce')\n",
    "        print(f\"✓ Converted {col}\")\n",
    "    except:\n",
    "        print(f\"⚠ Failed: {col}\")"
   ]
  },
  {
   "cell_type": "code",
   "execution_count": 4,
   "metadata": {},
   "outputs": [
    {
     "name": "stdout",
     "output_type": "stream",
     "text": [
      "\n",
      "Calculating competition metrics...\n",
      "✓ Merged dataset: 3,621,822 rows\n",
      "✓ Bidder count added\n"
     ]
    }
   ],
   "source": [
    "# Calculate bidder counts and merge\n",
    "if 'lot_id' in df_procurements.columns:\n",
    "    print(\"\\nCalculating competition metrics...\")\n",
    "    \n",
    "    # Count bidders per lot\n",
    "    bidders_per_lot = df_procurements.groupby('lot_id').size().reset_index(name='bidder_count')\n",
    "    \n",
    "    # Merge with suppliers\n",
    "    df = df_suppliers.merge(bidders_per_lot, on='lot_id', how='left')\n",
    "    \n",
    "    print(f\"✓ Merged dataset: {len(df):,} rows\")\n",
    "    print(f\"✓ Bidder count added\")\n",
    "else:\n",
    "    df = df_suppliers.copy()\n",
    "    print(\"⚠ No lot_id found, proceeding without bidder counts\")"
   ]
  },
  {
   "cell_type": "markdown",
   "metadata": {},
   "source": [
    "## 2. Price-Based Features\n",
    "\n",
    "Features capturing price anomalies and deviations from expected values."
   ]
  },
  {
   "cell_type": "code",
   "execution_count": 5,
   "metadata": {},
   "outputs": [
    {
     "name": "stdout",
     "output_type": "stream",
     "text": [
      "Price columns found: ['lot_initial_value', 'lot_final_value']\n",
      "\n",
      "Initial price column: lot_initial_value\n",
      "Final price column: lot_final_value\n"
     ]
    }
   ],
   "source": [
    "# Find price columns\n",
    "price_cols = [col for col in df.columns if any(x in col.lower() for x in ['price', 'amount', 'value', 'cost'])]\n",
    "print(f\"Price columns found: {price_cols}\")\n",
    "\n",
    "# Identify initial and final prices\n",
    "initial_price_col = None\n",
    "final_price_col = None\n",
    "\n",
    "for col in price_cols:\n",
    "    if any(x in col.lower() for x in ['initial', 'start', 'expected']):\n",
    "        initial_price_col = col\n",
    "    if any(x in col.lower() for x in ['final', 'award', 'winner', 'contract']):\n",
    "        final_price_col = col\n",
    "\n",
    "print(f\"\\nInitial price column: {initial_price_col}\")\n",
    "print(f\"Final price column: {final_price_col}\")"
   ]
  },
  {
   "cell_type": "code",
   "execution_count": 6,
   "metadata": {},
   "outputs": [
    {
     "name": "stdout",
     "output_type": "stream",
     "text": [
      "\n",
      "Engineering price change features...\n",
      "✓ Price change features created\n",
      "  - price_change_abs, price_change_pct\n",
      "  - Binary flags: increased, decreased, unchanged, extreme changes\n"
     ]
    }
   ],
   "source": [
    "# Price change features\n",
    "if initial_price_col and final_price_col:\n",
    "    print(\"\\nEngineering price change features...\")\n",
    "    \n",
    "    # Absolute and percentage change\n",
    "    df['price_change_abs'] = df[final_price_col] - df[initial_price_col]\n",
    "    df['price_change_pct'] = (df['price_change_abs'] / df[initial_price_col] * 100).replace([np.inf, -np.inf], np.nan)\n",
    "    \n",
    "    # Binary flags\n",
    "    df['price_increased'] = (df['price_change_abs'] > 0).astype(int)\n",
    "    df['price_decreased'] = (df['price_change_abs'] < 0).astype(int)\n",
    "    df['price_unchanged'] = (df['price_change_abs'] == 0).astype(int)\n",
    "    \n",
    "    # Extreme changes (>20% or <-20%)\n",
    "    df['price_extreme_increase'] = (df['price_change_pct'] > 20).astype(int)\n",
    "    df['price_extreme_decrease'] = (df['price_change_pct'] < -20).astype(int)\n",
    "    \n",
    "    print(\"✓ Price change features created\")\n",
    "    print(f\"  - price_change_abs, price_change_pct\")\n",
    "    print(f\"  - Binary flags: increased, decreased, unchanged, extreme changes\")"
   ]
  },
  {
   "cell_type": "code",
   "execution_count": 7,
   "metadata": {},
   "outputs": [
    {
     "name": "stdout",
     "output_type": "stream",
     "text": [
      "\n",
      "Calculating regional price benchmarks using: organizer_region\n",
      "✓ Regional price features created\n",
      "  - Deviations from regional median (absolute and percentage)\n",
      "  - Z-scores and outlier flags\n"
     ]
    }
   ],
   "source": [
    "# Regional price benchmarks\n",
    "region_cols = [col for col in df.columns if any(x in col.lower() for x in ['region', 'oblast', 'area'])]\n",
    "cpv_cols = [col for col in df.columns if 'cpv' in col.lower() or 'categor' in col.lower()]\n",
    "\n",
    "if final_price_col and region_cols:\n",
    "    region_col = region_cols[0]\n",
    "    \n",
    "    print(f\"\\nCalculating regional price benchmarks using: {region_col}\")\n",
    "    \n",
    "    # Regional statistics\n",
    "    regional_stats = df.groupby(region_col)[final_price_col].agg(['mean', 'median', 'std'])\n",
    "    regional_stats.columns = ['regional_mean_price', 'regional_median_price', 'regional_std_price']\n",
    "    \n",
    "    # Merge back\n",
    "    df = df.merge(regional_stats, left_on=region_col, right_index=True, how='left')\n",
    "    \n",
    "    # Calculate deviations\n",
    "    df['price_vs_regional_median'] = df[final_price_col] - df['regional_median_price']\n",
    "    df['price_vs_regional_median_pct'] = (df['price_vs_regional_median'] / df['regional_median_price'] * 100).replace([np.inf, -np.inf], np.nan)\n",
    "    \n",
    "    # Z-score (how many standard deviations from regional mean)\n",
    "    df['price_zscore_regional'] = ((df[final_price_col] - df['regional_mean_price']) / df['regional_std_price']).replace([np.inf, -np.inf], np.nan)\n",
    "    \n",
    "    # Flag extreme outliers (>3 std deviations)\n",
    "    df['price_outlier_regional'] = (np.abs(df['price_zscore_regional']) > 3).astype(int)\n",
    "    \n",
    "    print(\"✓ Regional price features created\")\n",
    "    print(f\"  - Deviations from regional median (absolute and percentage)\")\n",
    "    print(f\"  - Z-scores and outlier flags\")"
   ]
  },
  {
   "cell_type": "code",
   "execution_count": 8,
   "metadata": {},
   "outputs": [
    {
     "name": "stdout",
     "output_type": "stream",
     "text": [
      "\n",
      "Calculating category price benchmarks using: lot_cpv\n",
      "✓ Category price features created\n",
      "  - Deviations from category median (absolute and percentage)\n",
      "  - Z-scores and outlier flags\n"
     ]
    }
   ],
   "source": [
    "# Category price benchmarks\n",
    "if final_price_col and cpv_cols:\n",
    "    cpv_col = cpv_cols[0]\n",
    "    \n",
    "    print(f\"\\nCalculating category price benchmarks using: {cpv_col}\")\n",
    "    \n",
    "    # Category statistics\n",
    "    category_stats = df.groupby(cpv_col)[final_price_col].agg(['mean', 'median', 'std'])\n",
    "    category_stats.columns = ['category_mean_price', 'category_median_price', 'category_std_price']\n",
    "    \n",
    "    # Merge back\n",
    "    df = df.merge(category_stats, left_on=cpv_col, right_index=True, how='left')\n",
    "    \n",
    "    # Calculate deviations\n",
    "    df['price_vs_category_median'] = df[final_price_col] - df['category_median_price']\n",
    "    df['price_vs_category_median_pct'] = (df['price_vs_category_median'] / df['category_median_price'] * 100).replace([np.inf, -np.inf], np.nan)\n",
    "    \n",
    "    # Z-score\n",
    "    df['price_zscore_category'] = ((df[final_price_col] - df['category_mean_price']) / df['category_std_price']).replace([np.inf, -np.inf], np.nan)\n",
    "    \n",
    "    # Flag outliers\n",
    "    df['price_outlier_category'] = (np.abs(df['price_zscore_category']) > 3).astype(int)\n",
    "    \n",
    "    print(\"✓ Category price features created\")\n",
    "    print(f\"  - Deviations from category median (absolute and percentage)\")\n",
    "    print(f\"  - Z-scores and outlier flags\")"
   ]
  },
  {
   "cell_type": "markdown",
   "metadata": {},
   "source": [
    "## 3. Competition Features\n",
    "\n",
    "Features measuring market competition and concentration."
   ]
  },
  {
   "cell_type": "code",
   "execution_count": 9,
   "metadata": {},
   "outputs": [
    {
     "name": "stdout",
     "output_type": "stream",
     "text": [
      "\n",
      "Engineering competition features...\n",
      "✓ Basic competition features created\n",
      "  - Binary flags: single bidder, low competition, healthy competition\n",
      "  - Competition level categories\n",
      "\n",
      "Competition statistics:\n",
      "  Single bidder: 298,510 (8.24%)\n",
      "  Low competition (≤2): 665,365 (18.37%)\n",
      "  Healthy competition (≥5): 77,616 (2.14%)\n"
     ]
    }
   ],
   "source": [
    "# Basic competition features\n",
    "if 'bidder_count' in df.columns:\n",
    "    print(\"\\nEngineering competition features...\")\n",
    "    \n",
    "    # Binary flags\n",
    "    df['is_single_bidder'] = (df['bidder_count'] == 1).astype(int)\n",
    "    df['is_low_competition'] = (df['bidder_count'] <= 2).astype(int)\n",
    "    df['is_healthy_competition'] = (df['bidder_count'] >= 5).astype(int)\n",
    "    \n",
    "    # Competition level categories\n",
    "    df['competition_level'] = pd.cut(df['bidder_count'], \n",
    "                                     bins=[0, 1, 2, 4, 10, 100], \n",
    "                                     labels=['single', 'very_low', 'low', 'medium', 'high'])\n",
    "    \n",
    "    print(\"✓ Basic competition features created\")\n",
    "    print(f\"  - Binary flags: single bidder, low competition, healthy competition\")\n",
    "    print(f\"  - Competition level categories\")\n",
    "    \n",
    "    # Statistics\n",
    "    print(f\"\\nCompetition statistics:\")\n",
    "    print(f\"  Single bidder: {df['is_single_bidder'].sum():,} ({df['is_single_bidder'].mean()*100:.2f}%)\")\n",
    "    print(f\"  Low competition (≤2): {df['is_low_competition'].sum():,} ({df['is_low_competition'].mean()*100:.2f}%)\")\n",
    "    print(f\"  Healthy competition (≥5): {df['is_healthy_competition'].sum():,} ({df['is_healthy_competition'].mean()*100:.2f}%)\")"
   ]
  },
  {
   "cell_type": "code",
   "execution_count": 10,
   "metadata": {},
   "outputs": [
    {
     "name": "stdout",
     "output_type": "stream",
     "text": [
      "\n",
      "Calculating regional competition benchmarks using: organizer_region\n",
      "✓ Regional competition features created\n",
      "  - Regional average/median bidders\n",
      "  - Regional single bidder rate\n",
      "  - Competition comparison flags\n"
     ]
    }
   ],
   "source": [
    "# Regional competition benchmarks\n",
    "if 'bidder_count' in df.columns and region_cols:\n",
    "    region_col = region_cols[0]\n",
    "    \n",
    "    print(f\"\\nCalculating regional competition benchmarks using: {region_col}\")\n",
    "    \n",
    "    # Regional competition statistics\n",
    "    regional_competition = df.groupby(region_col)['bidder_count'].agg(['mean', 'median', 'std'])\n",
    "    regional_competition.columns = ['regional_avg_bidders', 'regional_median_bidders', 'regional_std_bidders']\n",
    "    \n",
    "    # Calculate single bidder rate by region\n",
    "    regional_single_bidder_rate = df.groupby(region_col)['is_single_bidder'].mean()\n",
    "    regional_competition['regional_single_bidder_rate'] = regional_single_bidder_rate\n",
    "    \n",
    "    # Merge back\n",
    "    df = df.merge(regional_competition, left_on=region_col, right_index=True, how='left')\n",
    "    \n",
    "    # Deviation from regional average\n",
    "    df['bidders_vs_regional_avg'] = df['bidder_count'] - df['regional_avg_bidders']\n",
    "    \n",
    "    # Flag: Is this tender worse than regional average?\n",
    "    df['below_regional_competition'] = (df['bidder_count'] < df['regional_median_bidders']).astype(int)\n",
    "    \n",
    "    print(\"✓ Regional competition features created\")\n",
    "    print(f\"  - Regional average/median bidders\")\n",
    "    print(f\"  - Regional single bidder rate\")\n",
    "    print(f\"  - Competition comparison flags\")"
   ]
  },
  {
   "cell_type": "code",
   "execution_count": 11,
   "metadata": {},
   "outputs": [
    {
     "name": "stdout",
     "output_type": "stream",
     "text": [
      "\n",
      "Calculating category competition benchmarks using: lot_cpv\n",
      "✓ Category competition features created\n",
      "  - Category average/median bidders\n",
      "  - Category single bidder rate\n",
      "  - Competition comparison flags\n"
     ]
    }
   ],
   "source": [
    "# Category competition benchmarks\n",
    "if 'bidder_count' in df.columns and cpv_cols:\n",
    "    cpv_col = cpv_cols[0]\n",
    "    \n",
    "    print(f\"\\nCalculating category competition benchmarks using: {cpv_col}\")\n",
    "    \n",
    "    # Category competition statistics\n",
    "    category_competition = df.groupby(cpv_col)['bidder_count'].agg(['mean', 'median', 'std'])\n",
    "    category_competition.columns = ['category_avg_bidders', 'category_median_bidders', 'category_std_bidders']\n",
    "    \n",
    "    # Single bidder rate by category\n",
    "    category_single_bidder_rate = df.groupby(cpv_col)['is_single_bidder'].mean()\n",
    "    category_competition['category_single_bidder_rate'] = category_single_bidder_rate\n",
    "    \n",
    "    # Merge back\n",
    "    df = df.merge(category_competition, left_on=cpv_col, right_index=True, how='left')\n",
    "    \n",
    "    # Deviation from category average\n",
    "    df['bidders_vs_category_avg'] = df['bidder_count'] - df['category_avg_bidders']\n",
    "    \n",
    "    # Flag: worse than category average?\n",
    "    df['below_category_competition'] = (df['bidder_count'] < df['category_median_bidders']).astype(int)\n",
    "    \n",
    "    print(\"✓ Category competition features created\")\n",
    "    print(f\"  - Category average/median bidders\")\n",
    "    print(f\"  - Category single bidder rate\")\n",
    "    print(f\"  - Competition comparison flags\")"
   ]
  },
  {
   "cell_type": "code",
   "execution_count": 12,
   "metadata": {},
   "outputs": [
    {
     "name": "stdout",
     "output_type": "stream",
     "text": [
      "\n",
      "Calculating supplier statistics using: supplier_name\n",
      "✓ Supplier features created\n",
      "  - Total wins, average competition, single bidder rate\n",
      "\n",
      "Calculating organizer statistics using: organizer_name\n",
      "✓ Organizer features created\n",
      "  - Total tenders, average competition, single bidder rate\n"
     ]
    }
   ],
   "source": [
    "# Supplier and organizer win rates\n",
    "supplier_cols = [col for col in df.columns if any(x in col.lower() for x in ['supplier', 'winner', 'contractor'])]\n",
    "organizer_cols = [col for col in df.columns if any(x in col.lower() for x in ['organiz', 'buyer', 'customer'])]\n",
    "\n",
    "if supplier_cols:\n",
    "    supplier_col = supplier_cols[0]\n",
    "    \n",
    "    print(f\"\\nCalculating supplier statistics using: {supplier_col}\")\n",
    "    \n",
    "    # Supplier win counts\n",
    "    supplier_wins = df.groupby(supplier_col).size().to_dict()\n",
    "    df['supplier_total_wins'] = df[supplier_col].map(supplier_wins)\n",
    "    \n",
    "    # Supplier average bidder count (when they win)\n",
    "    if 'bidder_count' in df.columns:\n",
    "        supplier_avg_competition = df.groupby(supplier_col)['bidder_count'].mean().to_dict()\n",
    "        df['supplier_avg_competition'] = df[supplier_col].map(supplier_avg_competition)\n",
    "        \n",
    "        # How often does this supplier win with single bidder?\n",
    "        supplier_single_bidder_rate = df.groupby(supplier_col)['is_single_bidder'].mean().to_dict()\n",
    "        df['supplier_single_bidder_rate'] = df[supplier_col].map(supplier_single_bidder_rate)\n",
    "    \n",
    "    print(\"✓ Supplier features created\")\n",
    "    print(f\"  - Total wins, average competition, single bidder rate\")\n",
    "\n",
    "if organizer_cols:\n",
    "    organizer_col = organizer_cols[0]\n",
    "    \n",
    "    print(f\"\\nCalculating organizer statistics using: {organizer_col}\")\n",
    "    \n",
    "    # Organizer tender counts\n",
    "    organizer_tenders = df.groupby(organizer_col).size().to_dict()\n",
    "    df['organizer_total_tenders'] = df[organizer_col].map(organizer_tenders)\n",
    "    \n",
    "    # Organizer average competition\n",
    "    if 'bidder_count' in df.columns:\n",
    "        organizer_avg_competition = df.groupby(organizer_col)['bidder_count'].mean().to_dict()\n",
    "        df['organizer_avg_competition'] = df[organizer_col].map(organizer_avg_competition)\n",
    "        \n",
    "        # Organizer single bidder rate\n",
    "        organizer_single_bidder_rate = df.groupby(organizer_col)['is_single_bidder'].mean().to_dict()\n",
    "        df['organizer_single_bidder_rate'] = df[organizer_col].map(organizer_single_bidder_rate)\n",
    "    \n",
    "    print(\"✓ Organizer features created\")\n",
    "    print(f\"  - Total tenders, average competition, single bidder rate\")"
   ]
  },
  {
   "cell_type": "markdown",
   "metadata": {},
   "source": [
    "## 4. Temporal Features\n",
    "\n",
    "Features capturing time-based patterns and deadline pressure."
   ]
  },
  {
   "cell_type": "code",
   "execution_count": 13,
   "metadata": {},
   "outputs": [
    {
     "name": "stdout",
     "output_type": "stream",
     "text": [
      "\n",
      "Engineering temporal features using: lot_announce_date\n",
      "✓ Basic temporal features created\n",
      "  - Year, month, quarter, day of week/month\n",
      "  - Binary flags: weekend, end of month, Q4, December\n",
      "\n",
      "Temporal statistics:\n",
      "  Q4 tenders: 1,223,166 (33.77%)\n",
      "  December tenders: 505,599 (13.96%)\n",
      "  End-of-month tenders: 711,106 (19.63%)\n"
     ]
    }
   ],
   "source": [
    "# Extract temporal features from date columns\n",
    "if date_columns:\n",
    "    primary_date_col = date_columns[0]\n",
    "    \n",
    "    print(f\"\\nEngineering temporal features using: {primary_date_col}\")\n",
    "    \n",
    "    # Basic temporal features\n",
    "    df['year'] = df[primary_date_col].dt.year\n",
    "    df['month'] = df[primary_date_col].dt.month\n",
    "    df['quarter'] = df[primary_date_col].dt.quarter\n",
    "    df['day_of_week'] = df[primary_date_col].dt.dayofweek\n",
    "    df['day_of_month'] = df[primary_date_col].dt.day\n",
    "    df['week_of_year'] = df[primary_date_col].dt.isocalendar().week\n",
    "    \n",
    "    # Binary flags\n",
    "    df['is_weekend'] = (df['day_of_week'] >= 5).astype(int)\n",
    "    df['is_end_of_month'] = (df['day_of_month'] >= 25).astype(int)\n",
    "    df['is_q4'] = (df['quarter'] == 4).astype(int)  # Budget cycle pressure\n",
    "    df['is_december'] = (df['month'] == 12).astype(int)  # Year-end rush\n",
    "    \n",
    "    print(\"✓ Basic temporal features created\")\n",
    "    print(f\"  - Year, month, quarter, day of week/month\")\n",
    "    print(f\"  - Binary flags: weekend, end of month, Q4, December\")\n",
    "    \n",
    "    # Statistics\n",
    "    print(f\"\\nTemporal statistics:\")\n",
    "    print(f\"  Q4 tenders: {df['is_q4'].sum():,} ({df['is_q4'].mean()*100:.2f}%)\")\n",
    "    print(f\"  December tenders: {df['is_december'].sum():,} ({df['is_december'].mean()*100:.2f}%)\")\n",
    "    print(f\"  End-of-month tenders: {df['is_end_of_month'].sum():,} ({df['is_end_of_month'].mean()*100:.2f}%)\")"
   ]
  },
  {
   "cell_type": "code",
   "execution_count": 14,
   "metadata": {},
   "outputs": [],
   "source": [
    "# Deadline pressure features (if we have tender start and end dates)\n",
    "tender_start_cols = [col for col in date_columns if any(x in col.lower() for x in ['start', 'publish', 'announc'])]\n",
    "tender_end_cols = [col for col in date_columns if any(x in col.lower() for x in ['end', 'deadline', 'close'])]\n",
    "\n",
    "if tender_start_cols and tender_end_cols:\n",
    "    start_col = tender_start_cols[0]\n",
    "    end_col = tender_end_cols[0]\n",
    "    \n",
    "    print(f\"\\nCalculating deadline pressure features...\")\n",
    "    print(f\"  Start: {start_col}\")\n",
    "    print(f\"  End: {end_col}\")\n",
    "    \n",
    "    # Calculate tender duration in days\n",
    "    df['tender_duration_days'] = (df[end_col] - df[start_col]).dt.days\n",
    "    \n",
    "    # Flag very short tenders (potential red flag)\n",
    "    df['is_rush_tender'] = (df['tender_duration_days'] <= 7).astype(int)\n",
    "    df['is_very_rush_tender'] = (df['tender_duration_days'] <= 3).astype(int)\n",
    "    \n",
    "    print(\"✓ Deadline pressure features created\")\n",
    "    print(f\"  - Tender duration in days\")\n",
    "    print(f\"  - Rush tender flags (≤7 days, ≤3 days)\")\n",
    "    \n",
    "    # Statistics\n",
    "    print(f\"\\nDeadline statistics:\")\n",
    "    print(f\"  Average duration: {df['tender_duration_days'].mean():.2f} days\")\n",
    "    print(f\"  Rush tenders (≤7 days): {df['is_rush_tender'].sum():,} ({df['is_rush_tender'].mean()*100:.2f}%)\")\n",
    "    print(f\"  Very rush (≤3 days): {df['is_very_rush_tender'].sum():,} ({df['is_very_rush_tender'].mean()*100:.2f}%)\")"
   ]
  },
  {
   "cell_type": "markdown",
   "metadata": {},
   "source": [
    "## 5. Network Features\n",
    "\n",
    "Features based on supplier-organizer relationship networks."
   ]
  },
  {
   "cell_type": "code",
   "execution_count": 15,
   "metadata": {},
   "outputs": [
    {
     "name": "stdout",
     "output_type": "stream",
     "text": [
      "\n",
      "Analyzing supplier-organizer network...\n",
      "  Supplier: supplier_name\n",
      "  Organizer: organizer_name\n",
      "✓ Network relationship features created\n",
      "  - Supplier-organizer win counts\n",
      "  - Concentration/dependency metrics\n",
      "  - Diversity metrics (unique partners)\n",
      "\n",
      "Network statistics:\n",
      "  High concentration pairs: 1,001,347 (27.65%)\n",
      "  Avg supplier diversity: 154.72 organizers\n",
      "  Avg organizer diversity: 184.52 suppliers\n"
     ]
    }
   ],
   "source": [
    "# Supplier-Organizer relationships\n",
    "if supplier_cols and organizer_cols:\n",
    "    supplier_col = supplier_cols[0]\n",
    "    organizer_col = organizer_cols[0]\n",
    "    \n",
    "    print(f\"\\nAnalyzing supplier-organizer network...\")\n",
    "    print(f\"  Supplier: {supplier_col}\")\n",
    "    print(f\"  Organizer: {organizer_col}\")\n",
    "    \n",
    "    # How many times has this supplier won from this organizer?\n",
    "    supplier_organizer_wins = df.groupby([supplier_col, organizer_col]).size().reset_index(name='supplier_organizer_win_count')\n",
    "    df = df.merge(supplier_organizer_wins, on=[supplier_col, organizer_col], how='left')\n",
    "    \n",
    "    # What percentage of supplier's total wins are from this organizer?\n",
    "    df['supplier_organizer_concentration'] = (df['supplier_organizer_win_count'] / df['supplier_total_wins']).fillna(0)\n",
    "    \n",
    "    # Flag: supplier heavily dependent on one organizer (potential collusion)\n",
    "    df['supplier_high_concentration'] = (df['supplier_organizer_concentration'] > 0.5).astype(int)\n",
    "    \n",
    "    # How many unique organizers has this supplier won from?\n",
    "    supplier_organizer_diversity = df.groupby(supplier_col)[organizer_col].nunique().to_dict()\n",
    "    df['supplier_organizer_diversity'] = df[supplier_col].map(supplier_organizer_diversity)\n",
    "    \n",
    "    # How many unique suppliers has this organizer used?\n",
    "    organizer_supplier_diversity = df.groupby(organizer_col)[supplier_col].nunique().to_dict()\n",
    "    df['organizer_supplier_diversity'] = df[organizer_col].map(organizer_supplier_diversity)\n",
    "    \n",
    "    print(\"✓ Network relationship features created\")\n",
    "    print(f\"  - Supplier-organizer win counts\")\n",
    "    print(f\"  - Concentration/dependency metrics\")\n",
    "    print(f\"  - Diversity metrics (unique partners)\")\n",
    "    \n",
    "    # Statistics\n",
    "    print(f\"\\nNetwork statistics:\")\n",
    "    print(f\"  High concentration pairs: {df['supplier_high_concentration'].sum():,} ({df['supplier_high_concentration'].mean()*100:.2f}%)\")\n",
    "    print(f\"  Avg supplier diversity: {df['supplier_organizer_diversity'].mean():.2f} organizers\")\n",
    "    print(f\"  Avg organizer diversity: {df['organizer_supplier_diversity'].mean():.2f} suppliers\")"
   ]
  },
  {
   "cell_type": "code",
   "execution_count": 16,
   "metadata": {},
   "outputs": [
    {
     "name": "stdout",
     "output_type": "stream",
     "text": [
      "\n",
      "Building network graph (sample: 10,000 tenders)...\n",
      "✓ Network graph built\n",
      "  Nodes: 3,779\n",
      "  Edges: 6,413\n",
      "\n",
      "Calculating network centrality (this may take a moment)...\n",
      "✓ Centrality measures calculated (for sample)\n",
      "  Note: For production, calculate centrality on full dataset and merge\n"
     ]
    }
   ],
   "source": [
    "# Build simple network graph (sample for demonstration)\n",
    "if supplier_cols and organizer_cols:\n",
    "    print(\"\\nBuilding network graph (sample: 10,000 tenders)...\")\n",
    "    \n",
    "    # Sample for network analysis (full graph would be too large)\n",
    "    df_sample = df.head(10000)\n",
    "    \n",
    "    # Create bipartite graph\n",
    "    G = nx.Graph()\n",
    "    \n",
    "    for _, row in df_sample.iterrows():\n",
    "        supplier = row[supplier_col]\n",
    "        organizer = row[organizer_col]\n",
    "        \n",
    "        if pd.notna(supplier) and pd.notna(organizer):\n",
    "            if G.has_edge(supplier, organizer):\n",
    "                G[supplier][organizer]['weight'] += 1\n",
    "            else:\n",
    "                G.add_edge(supplier, organizer, weight=1)\n",
    "    \n",
    "    print(f\"✓ Network graph built\")\n",
    "    print(f\"  Nodes: {G.number_of_nodes():,}\")\n",
    "    print(f\"  Edges: {G.number_of_edges():,}\")\n",
    "    \n",
    "    # Calculate centrality measures (for sample)\n",
    "    print(\"\\nCalculating network centrality (this may take a moment)...\")\n",
    "    \n",
    "    try:\n",
    "        degree_centrality = nx.degree_centrality(G)\n",
    "        betweenness_centrality = nx.betweenness_centrality(G, k=min(100, G.number_of_nodes()))\n",
    "        \n",
    "        # Map back to dataframe (sample only)\n",
    "        df_sample['supplier_degree_centrality'] = df_sample[supplier_col].map(degree_centrality)\n",
    "        df_sample['supplier_betweenness_centrality'] = df_sample[supplier_col].map(betweenness_centrality)\n",
    "        \n",
    "        print(\"✓ Centrality measures calculated (for sample)\")\n",
    "        print(\"  Note: For production, calculate centrality on full dataset and merge\")\n",
    "    except:\n",
    "        print(\"⚠ Centrality calculation skipped (network too large or complex)\")"
   ]
  },
  {
   "cell_type": "markdown",
   "metadata": {},
   "source": [
    "## 6. Geographic Features\n",
    "\n",
    "Features based on regional patterns and cross-region activity."
   ]
  },
  {
   "cell_type": "code",
   "execution_count": 17,
   "metadata": {},
   "outputs": [
    {
     "name": "stdout",
     "output_type": "stream",
     "text": [
      "\n",
      "Analyzing geographic patterns...\n",
      "  Region: organizer_region\n",
      "  Supplier: supplier_name\n",
      "✓ Geographic features created\n",
      "  - Supplier region count and diversity\n",
      "  - Regional market share\n",
      "  - Dominance flags\n",
      "\n",
      "Geographic statistics:\n",
      "  Multi-region suppliers: 1,904,726 tenders (52.59%)\n",
      "  Regional dominance: 0 tenders (0.00%)\n"
     ]
    }
   ],
   "source": [
    "# Cross-region activity\n",
    "if region_cols and supplier_cols:\n",
    "    region_col = region_cols[0]\n",
    "    supplier_col = supplier_cols[0]\n",
    "    \n",
    "    print(f\"\\nAnalyzing geographic patterns...\")\n",
    "    print(f\"  Region: {region_col}\")\n",
    "    print(f\"  Supplier: {supplier_col}\")\n",
    "    \n",
    "    # How many regions does this supplier operate in?\n",
    "    supplier_region_count = df.groupby(supplier_col)[region_col].nunique().to_dict()\n",
    "    df['supplier_region_count'] = df[supplier_col].map(supplier_region_count)\n",
    "    \n",
    "    # Flag: multi-region suppliers (normal for large companies, suspicious for small ones)\n",
    "    df['supplier_multi_region'] = (df['supplier_region_count'] > 1).astype(int)\n",
    "    df['supplier_many_regions'] = (df['supplier_region_count'] > 5).astype(int)\n",
    "    \n",
    "    # Regional market share (for this supplier)\n",
    "    regional_tender_counts = df.groupby(region_col).size().to_dict()\n",
    "    supplier_region_wins = df.groupby([supplier_col, region_col]).size().reset_index(name='regional_wins')\n",
    "    df = df.merge(supplier_region_wins, on=[supplier_col, region_col], how='left')\n",
    "    \n",
    "    df['regional_tender_total'] = df[region_col].map(regional_tender_counts)\n",
    "    df['supplier_regional_market_share'] = (df['regional_wins'] / df['regional_tender_total']).fillna(0)\n",
    "    \n",
    "    # Flag: high regional market share (potential monopoly)\n",
    "    df['supplier_regional_dominance'] = (df['supplier_regional_market_share'] > 0.1).astype(int)  # >10% of region\n",
    "    \n",
    "    print(\"✓ Geographic features created\")\n",
    "    print(f\"  - Supplier region count and diversity\")\n",
    "    print(f\"  - Regional market share\")\n",
    "    print(f\"  - Dominance flags\")\n",
    "    \n",
    "    # Statistics\n",
    "    print(f\"\\nGeographic statistics:\")\n",
    "    print(f\"  Multi-region suppliers: {df['supplier_multi_region'].sum():,} tenders ({df['supplier_multi_region'].mean()*100:.2f}%)\")\n",
    "    print(f\"  Regional dominance: {df['supplier_regional_dominance'].sum():,} tenders ({df['supplier_regional_dominance'].mean()*100:.2f}%)\")"
   ]
  },
  {
   "cell_type": "markdown",
   "metadata": {},
   "source": [
    "## 7. Composite Anomaly Score\n",
    "\n",
    "Combining multiple red flags into overall suspicion score."
   ]
  },
  {
   "cell_type": "code",
   "execution_count": 18,
   "metadata": {},
   "outputs": [
    {
     "name": "stdout",
     "output_type": "stream",
     "text": [
      "\n",
      "Calculating composite anomaly score...\n",
      "Red flag features used: 10\n",
      "  - is_single_bidder\n",
      "  - is_low_competition\n",
      "  - price_outlier_regional\n",
      "  - price_outlier_category\n",
      "  - price_extreme_increase\n",
      "  - price_extreme_decrease\n",
      "  - supplier_high_concentration\n",
      "  - is_q4\n",
      "  - is_december\n",
      "  - supplier_regional_dominance\n",
      "\n",
      "✓ Anomaly scores calculated\n",
      "  - Raw score (0-10)\n",
      "  - Normalized score (0-100)\n",
      "  - Risk categories: low, medium, high, critical\n",
      "\n",
      "Anomaly score distribution:\n",
      "count    3.621822e+06\n",
      "mean     1.101778e+00\n",
      "std      1.011192e+00\n",
      "min      0.000000e+00\n",
      "25%      0.000000e+00\n",
      "50%      1.000000e+00\n",
      "75%      2.000000e+00\n",
      "max      7.000000e+00\n",
      "Name: anomaly_score, dtype: float64\n",
      "\n",
      "Risk category distribution:\n",
      "risk_category\n",
      "low         3274753\n",
      "medium       340981\n",
      "high           6086\n",
      "critical          2\n",
      "Name: count, dtype: int64\n"
     ]
    }
   ],
   "source": [
    "# Create composite anomaly score\n",
    "print(\"\\nCalculating composite anomaly score...\")\n",
    "\n",
    "# List of red flag features (binary)\n",
    "red_flag_features = [\n",
    "    'is_single_bidder',\n",
    "    'is_low_competition',\n",
    "    'price_outlier_regional',\n",
    "    'price_outlier_category',\n",
    "    'price_extreme_increase',\n",
    "    'price_extreme_decrease',\n",
    "    'supplier_high_concentration',\n",
    "    'is_rush_tender' if 'is_rush_tender' in df.columns else None,\n",
    "    'is_q4',\n",
    "    'is_december',\n",
    "    'supplier_regional_dominance'\n",
    "]\n",
    "\n",
    "# Filter out None values\n",
    "red_flag_features = [f for f in red_flag_features if f is not None and f in df.columns]\n",
    "\n",
    "print(f\"Red flag features used: {len(red_flag_features)}\")\n",
    "for feature in red_flag_features:\n",
    "    print(f\"  - {feature}\")\n",
    "\n",
    "# Sum up red flags\n",
    "df['anomaly_score'] = df[red_flag_features].sum(axis=1)\n",
    "\n",
    "# Normalize to 0-100 scale\n",
    "max_score = len(red_flag_features)\n",
    "df['anomaly_score_normalized'] = (df['anomaly_score'] / max_score * 100).round(2)\n",
    "\n",
    "# Risk categories\n",
    "df['risk_category'] = pd.cut(df['anomaly_score_normalized'],\n",
    "                             bins=[-1, 20, 40, 60, 100],\n",
    "                             labels=['low', 'medium', 'high', 'critical'])\n",
    "\n",
    "print(\"\\n✓ Anomaly scores calculated\")\n",
    "print(f\"  - Raw score (0-{max_score})\")\n",
    "print(f\"  - Normalized score (0-100)\")\n",
    "print(f\"  - Risk categories: low, medium, high, critical\")\n",
    "\n",
    "# Distribution\n",
    "print(\"\\nAnomaly score distribution:\")\n",
    "print(df['anomaly_score'].describe())\n",
    "\n",
    "print(\"\\nRisk category distribution:\")\n",
    "print(df['risk_category'].value_counts())"
   ]
  },
  {
   "cell_type": "code",
   "execution_count": 19,
   "metadata": {},
   "outputs": [
    {
     "data": {
      "image/png": "[encoded data removed]",
      "text/plain": [
       "<Figure size 1600x600 with 2 Axes>"
      ]
     },
     "metadata": {},
     "output_type": "display_data"
    },
    {
     "name": "stdout",
     "output_type": "stream",
     "text": [
      "\n",
      "High/Critical risk tenders: 6,088\n",
      "Percentage: 0.17%\n"
     ]
    }
   ],
   "source": [
    "# Visualize anomaly score distribution\n",
    "fig, axes = plt.subplots(1, 2, figsize=(16, 6))\n",
    "\n",
    "# Histogram\n",
    "axes[0].hist(df['anomaly_score_normalized'], bins=50, color='darkred', edgecolor='black', alpha=0.7)\n",
    "axes[0].axvline(df['anomaly_score_normalized'].median(), color='orange', linestyle='--', linewidth=2, label='Median')\n",
    "axes[0].axvline(df['anomaly_score_normalized'].mean(), color='yellow', linestyle='--', linewidth=2, label='Mean')\n",
    "axes[0].set_xlabel('Anomaly Score (0-100)', fontsize=12)\n",
    "axes[0].set_ylabel('Frequency', fontsize=12)\n",
    "axes[0].set_title('Anomaly Score Distribution', fontsize=14, fontweight='bold')\n",
    "axes[0].legend()\n",
    "axes[0].grid(alpha=0.3)\n",
    "\n",
    "# Risk category breakdown\n",
    "risk_counts = df['risk_category'].value_counts()\n",
    "colors_risk = ['green', 'gold', 'orange', 'darkred']\n",
    "axes[1].pie(risk_counts, labels=risk_counts.index, autopct='%1.1f%%', colors=colors_risk, startangle=90)\n",
    "axes[1].set_title('Risk Category Distribution', fontsize=14, fontweight='bold')\n",
    "\n",
    "plt.tight_layout()\n",
    "plt.show()\n",
    "\n",
    "print(f\"\\nHigh/Critical risk tenders: {df[df['risk_category'].isin(['high', 'critical'])].shape[0]:,}\")\n",
    "print(f\"Percentage: {df[df['risk_category'].isin(['high', 'critical'])].shape[0] / len(df) * 100:.2f}%\")"
   ]
  },
  {
   "cell_type": "markdown",
   "metadata": {},
   "source": [
    "## 8. Feature Summary and Export"
   ]
  },
  {
   "cell_type": "code",
   "execution_count": 20,
   "metadata": {},
   "outputs": [
    {
     "name": "stdout",
     "output_type": "stream",
     "text": [
      "================================================================================\n",
      "FEATURE ENGINEERING SUMMARY\n",
      "================================================================================\n",
      "\n",
      "Total numeric features: 72\n",
      "\n",
      "Feature categories:\n",
      "\n",
      "1. PRICE FEATURES (21):\n",
      "   - price_change_abs\n",
      "   - price_change_pct\n",
      "   - price_increased\n",
      "   - price_decreased\n",
      "   - price_unchanged\n",
      "   - price_extreme_increase\n",
      "   - price_extreme_decrease\n",
      "   - regional_mean_price\n",
      "   - regional_median_price\n",
      "   - regional_std_price\n",
      "   ... and 11 more\n",
      "\n",
      "2. COMPETITION FEATURES (33):\n",
      "   - organizer_code\n",
      "   - bidder_count\n",
      "   - is_single_bidder\n",
      "   - is_low_competition\n",
      "   - is_healthy_competition\n",
      "   - regional_avg_bidders\n",
      "   - regional_median_bidders\n",
      "   - regional_std_bidders\n",
      "   - regional_single_bidder_rate\n",
      "   - bidders_vs_regional_avg\n",
      "   ... and 23 more\n",
      "\n",
      "3. TEMPORAL FEATURES (9):\n",
      "   - lot_announce_year\n",
      "   - year\n",
      "   - month\n",
      "   - quarter\n",
      "   - day_of_week\n",
      "   - day_of_month\n",
      "   - week_of_year\n",
      "   - is_weekend\n",
      "   - is_end_of_month\n",
      "\n",
      "4. NETWORK FEATURES (4):\n",
      "   - supplier_organizer_concentration\n",
      "   - supplier_high_concentration\n",
      "   - supplier_organizer_diversity\n",
      "   - organizer_supplier_diversity\n",
      "\n",
      "5. GEOGRAPHIC FEATURES (20):\n",
      "   - regional_mean_price\n",
      "   - regional_median_price\n",
      "   - regional_std_price\n",
      "   - price_vs_regional_median\n",
      "   - price_vs_regional_median_pct\n",
      "   - price_zscore_regional\n",
      "   - price_outlier_regional\n",
      "   - regional_avg_bidders\n",
      "   - regional_median_bidders\n",
      "   - regional_std_bidders\n",
      "   ... and 10 more\n",
      "\n",
      "6. ANOMALY SCORES (2):\n",
      "   - anomaly_score\n",
      "   - anomaly_score_normalized\n"
     ]
    }
   ],
   "source": [
    "# List all engineered features\n",
    "print(\"=\"*80)\n",
    "print(\"FEATURE ENGINEERING SUMMARY\")\n",
    "print(\"=\"*80)\n",
    "\n",
    "# Get all numeric columns (potential features)\n",
    "numeric_features = df.select_dtypes(include=[np.number]).columns.tolist()\n",
    "\n",
    "print(f\"\\nTotal numeric features: {len(numeric_features)}\")\n",
    "print(\"\\nFeature categories:\")\n",
    "\n",
    "price_features = [f for f in numeric_features if 'price' in f.lower()]\n",
    "competition_features = [f for f in numeric_features if any(x in f.lower() for x in ['bidder', 'competition', 'supplier_', 'organizer_'])]\n",
    "temporal_features = [f for f in numeric_features if any(x in f.lower() for x in ['year', 'month', 'quarter', 'day', 'week', 'duration'])]\n",
    "network_features = [f for f in numeric_features if any(x in f.lower() for x in ['concentration', 'diversity', 'centrality', 'network'])]\n",
    "geographic_features = [f for f in numeric_features if 'region' in f.lower()]\n",
    "anomaly_features = [f for f in numeric_features if 'anomaly' in f.lower() or 'risk' in f.lower()]\n",
    "\n",
    "print(f\"\\n1. PRICE FEATURES ({len(price_features)}):\")\n",
    "for f in price_features[:10]:\n",
    "    print(f\"   - {f}\")\n",
    "if len(price_features) > 10:\n",
    "    print(f\"   ... and {len(price_features) - 10} more\")\n",
    "\n",
    "print(f\"\\n2. COMPETITION FEATURES ({len(competition_features)}):\")\n",
    "for f in competition_features[:10]:\n",
    "    print(f\"   - {f}\")\n",
    "if len(competition_features) > 10:\n",
    "    print(f\"   ... and {len(competition_features) - 10} more\")\n",
    "\n",
    "print(f\"\\n3. TEMPORAL FEATURES ({len(temporal_features)}):\")\n",
    "for f in temporal_features:\n",
    "    print(f\"   - {f}\")\n",
    "\n",
    "print(f\"\\n4. NETWORK FEATURES ({len(network_features)}):\")\n",
    "for f in network_features:\n",
    "    print(f\"   - {f}\")\n",
    "\n",
    "print(f\"\\n5. GEOGRAPHIC FEATURES ({len(geographic_features)}):\")\n",
    "for f in geographic_features[:10]:\n",
    "    print(f\"   - {f}\")\n",
    "if len(geographic_features) > 10:\n",
    "    print(f\"   ... and {len(geographic_features) - 10} more\")\n",
    "\n",
    "print(f\"\\n6. ANOMALY SCORES ({len(anomaly_features)}):\")\n",
    "for f in anomaly_features:\n",
    "    print(f\"   - {f}\")"
   ]
  },
  {
   "cell_type": "code",
   "execution_count": 21,
   "metadata": {},
   "outputs": [
    {
     "name": "stdout",
     "output_type": "stream",
     "text": [
      "\n",
      "Saving engineered features to: ..\\data\\processed\\procurement_features.csv\n",
      "✓ Saved 3,621,822 rows with 85 columns\n",
      "  File size: 3419.39 MB\n"
     ]
    }
   ],
   "source": [
    "# Save engineered dataset\n",
    "output_dir = Path('../data/processed')\n",
    "output_dir.mkdir(parents=True, exist_ok=True)\n",
    "\n",
    "output_file = output_dir / 'procurement_features.csv'\n",
    "\n",
    "print(f\"\\nSaving engineered features to: {output_file}\")\n",
    "df.to_csv(output_file, index=False)\n",
    "\n",
    "print(f\"✓ Saved {len(df):,} rows with {len(df.columns)} columns\")\n",
    "print(f\"  File size: {output_file.stat().st_size / 1024**2:.2f} MB\")"
   ]
  },
  {
   "cell_type": "code",
   "execution_count": 22,
   "metadata": {},
   "outputs": [
    {
     "name": "stdout",
     "output_type": "stream",
     "text": [
      "\n",
      "✓ Feature list saved to: ..\\data\\processed\\feature_list.csv\n"
     ]
    }
   ],
   "source": [
    "# Save feature list for reference\n",
    "feature_list = pd.DataFrame({\n",
    "    'feature_name': numeric_features,\n",
    "    'data_type': [df[f].dtype for f in numeric_features],\n",
    "    'missing_count': [df[f].isnull().sum() for f in numeric_features],\n",
    "    'missing_pct': [(df[f].isnull().sum() / len(df) * 100).round(2) for f in numeric_features]\n",
    "})\n",
    "\n",
    "feature_list_file = output_dir / 'feature_list.csv'\n",
    "feature_list.to_csv(feature_list_file, index=False)\n",
    "\n",
    "print(f\"\\n✓ Feature list saved to: {feature_list_file}\")"
   ]
  },
  {
   "cell_type": "code",
   "execution_count": 23,
   "metadata": {},
   "outputs": [
    {
     "name": "stdout",
     "output_type": "stream",
     "text": [
      "\n",
      "================================================================================\n",
      "SAMPLE HIGH-RISK TENDERS\n",
      "================================================================================\n",
      "\n",
      "Found 2 critical risk tenders\n",
      "\n",
      "Top 5 most suspicious tenders:\n",
      "                            lot_id  anomaly_score_normalized risk_category  \\\n",
      "1181505  UA-2017-12-15-002498-b-L1                      70.0      critical   \n",
      "3553808  UA-2019-12-18-001982-b-L1                      70.0      critical   \n",
      "\n",
      "         bidder_count  is_single_bidder organizer_region  \\\n",
      "1181505           2.0                 0             Kyiv   \n",
      "3553808           1.0                 1             Kyiv   \n",
      "\n",
      "                                                   lot_cpv  lot_final_value  \n",
      "1181505  44160000-9_Pipeline, piping, pipes, casing, tu...      549990000.0  \n",
      "3553808               09130000-9_Petroleum and distillates      154116900.0  \n"
     ]
    }
   ],
   "source": [
    "# Display sample of high-risk tenders\n",
    "print(\"\\n\" + \"=\"*80)\n",
    "print(\"SAMPLE HIGH-RISK TENDERS\")\n",
    "print(\"=\"*80)\n",
    "\n",
    "high_risk = df[df['risk_category'] == 'critical'].sort_values('anomaly_score_normalized', ascending=False)\n",
    "\n",
    "if len(high_risk) > 0:\n",
    "    print(f\"\\nFound {len(high_risk):,} critical risk tenders\")\n",
    "    print(\"\\nTop 5 most suspicious tenders:\")\n",
    "    \n",
    "    display_cols = ['lot_id', 'anomaly_score_normalized', 'risk_category']\n",
    "    \n",
    "    # Add relevant columns if they exist\n",
    "    for col in ['bidder_count', 'is_single_bidder', region_col if region_cols else None, \n",
    "                cpv_col if cpv_cols else None, final_price_col if final_price_col else None]:\n",
    "        if col and col in df.columns:\n",
    "            display_cols.append(col)\n",
    "    \n",
    "    display_cols = [c for c in display_cols if c in df.columns]\n",
    "    \n",
    "    print(high_risk[display_cols].head())\n",
    "else:\n",
    "    print(\"\\nNo critical risk tenders found with current thresholds\")"
   ]
  },
  {
   "cell_type": "markdown",
   "metadata": {},
   "source": [
    "## Summary\n",
    "\n",
    "### Features Created:\n",
    "\n",
    "**Price Features:**\n",
    "- Price changes (absolute and percentage)\n",
    "- Deviations from regional/category medians\n",
    "- Z-scores and outlier flags\n",
    "\n",
    "**Competition Features:**\n",
    "- Bidder counts and competition levels\n",
    "- Regional/category competition benchmarks\n",
    "- Supplier/organizer win rates and patterns\n",
    "\n",
    "**Temporal Features:**\n",
    "- Time components (year, month, quarter, day)\n",
    "- Budget cycle indicators (Q4, December, end-of-month)\n",
    "- Deadline pressure (tender duration, rush flags)\n",
    "\n",
    "**Network Features:**\n",
    "- Supplier-organizer relationship strength\n",
    "- Concentration and diversity metrics\n",
    "- Market share indicators\n",
    "\n",
    "**Geographic Features:**\n",
    "- Multi-region supplier activity\n",
    "- Regional market share and dominance\n",
    "\n",
    "**Composite Scores:**\n",
    "- Anomaly score (0-100)\n",
    "- Risk categories (low, medium, high, critical)\n",
    "\n",
    "### Next Steps:\n",
    "✓ Model development with engineered features  \n",
    "✓ Unsupervised learning (Isolation Forest, clustering)  \n",
    "✓ Supervised learning (Random Forest, XGBoost)  \n",
    "✓ Model evaluation and comparison  \n",
    "✓ SHAP explainability analysis  "
   ]
  }
 ],
 "metadata": {
  "kernelspec": {
   "display_name": "Python 3 (ipykernel)",
   "language": "python",
   "name": "python3"
  },
  "language_info": {
   "codemirror_mode": {
    "name": "ipython",
    "version": 3
   },
   "file_extension": ".py",
   "mimetype": "text/x-python",
   "name": "python",
   "nbconvert_exporter": "python",
   "pygments_lexer": "ipython3",
   "version": "3.13.7"
  }
 },
 "nbformat": 4,
 "nbformat_minor": 4
}
